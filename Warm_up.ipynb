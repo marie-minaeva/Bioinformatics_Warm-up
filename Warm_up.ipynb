{
 "cells": [
  {
   "cell_type": "code",
   "execution_count": 1,
   "metadata": {},
   "outputs": [],
   "source": [
    "import numpy as np"
   ]
  },
  {
   "cell_type": "code",
   "execution_count": 2,
   "metadata": {},
   "outputs": [],
   "source": [
    "def output(out):\n",
    "    if type(out)==str:\n",
    "        print(out)\n",
    "    elif type(out)==list:\n",
    "        st=''\n",
    "        for i in out:\n",
    "            st+=str(i)+' '\n",
    "        print(st)"
   ]
  },
  {
   "cell_type": "markdown",
   "metadata": {},
   "source": [
    "# Problem 1: Finding a Motif in DNA"
   ]
  },
  {
   "cell_type": "markdown",
   "metadata": {},
   "source": [
    "#### Function (Brut force)"
   ]
  },
  {
   "cell_type": "code",
   "execution_count": 3,
   "metadata": {},
   "outputs": [],
   "source": [
    "def motif_finder(string,sub):\n",
    "    num=[]\n",
    "    for i in range(len(seq)):\n",
    "        if seq[i]==sub[0]:\n",
    "            flag=1\n",
    "            if i+len(sub)<=len(seq):\n",
    "                for j in range(i,i+len(sub)):\n",
    "                    if seq[j]==sub[j-i]:\n",
    "                        flag+=1\n",
    "            if flag==len(sub)+1:\n",
    "                num.append(i+1)\n",
    "    return num"
   ]
  },
  {
   "cell_type": "markdown",
   "metadata": {},
   "source": [
    "#### Application"
   ]
  },
  {
   "cell_type": "code",
   "execution_count": 4,
   "metadata": {},
   "outputs": [],
   "source": [
    "seq=''\n",
    "with open(\"sequence (3).fasta\",'r') as f:\n",
    "    for i in f:\n",
    "        s=f.readline()\n",
    "        seq+=str(s[:-1])\n",
    "sub='TTAAAACCGCTACAACAGGTGAGCGGTCCGTTAGGTGGTCTGATCTCGAGATGGAAATGGTGGCACGTGTTGCGCTGGTTCAGCCACACGAGCCAGGAGCGACGACCGTGGTGAACGGATGCTGGTACGCTCCGGGCGTAGCCGTTTTTCGCTGTCTACCCTGCCAGCGGCGGATTTCCAGCGACCCAGTTTTCGATGGCGCATCAGGACGTTCGCTATTACTTAAATGGTATGCTGTTTGAAACCGAACTTTGCCAAGCCATTCGGTGATCGTACCGCGTAAAGGCGTGATTGAACTGATGCGTATGCTCGACGGCGGTCCAAACTGGTGGATGGTCGCTTCCCGGATTACCGCCGCGTTCTGCCGAAGAATCCGGACAAACATCTGGCGTGCGCCTGTATGTCAGCGAAAACCAGCTGAAAATCACCGCCAACAACCCGGAACAGGAAGAAGCGGAATTCTGAACGCGCTGAAATGCGAAAACGTCCGCATGATGCTGACCGATTCGGTTTCCAGCGTGCAGATTGATGATCCGCGATTTCCGCAACATTGAAACCGCGGATCTCGCTTTATCTCCCGGCTTTAACTTTCTGGTAGGAGTTTGCAGATTGGTCGCGTCATTCGCCATGAGCAGGAGGCATTTGTTCTCCATGGGCGATTACAGGGCGTGACGGGCATAAAGTCGCGGAACTGGCGCACCTGATGCCAATGCAGCTGATAACGCCAGAAGGGTTTACTTTTTCACCGCCTGGAGCAATCTCAAGCGATTGCTCAAGCAGCGCAATGCGGCGCTGCGCCAGGTGACACGGAGTATAGCGCCGGTATCGCGGCCGATATGGCCGATACCTGTAAGCAATTTCTCCCTGAGTTTTCTCTGACGATCGCCAGCTAACCTACACCGCGCATGGCCCGCATAAAGCGGACTTACGCATTCGCGCCGACGGTGCGAGTTCCTCACCCGTGAAAGCGGGCGGCGGTGTCTCTACCTGATAGATGATTTTGCCTCTGAGCTTGATGAGCTGAACACGTTATAGACATGTCGGACGAAAATTCGAAGATGTTTACCGTGGAAAAGGGTAAAATAACGGTGAAAGGGCTGGATGCGGTGCGTAAGCGCCCGGGTATGTATATCGGCGACACGGATGACGGCACCGGTCTATCGTCACCATTCACGCCGACAACTCTGTCTCTGTACAGGATGACGGGCGCGGCATTCCGACCGGTATTCTAACTCCTATAAAGTGTCCGGCGGTCTGCACGGC'"
   ]
  },
  {
   "cell_type": "code",
   "execution_count": 5,
   "metadata": {},
   "outputs": [
    {
     "name": "stdout",
     "output_type": "stream",
     "text": [
      "522 \n",
      "CPU times: user 1min 52s, sys: 155 ms, total: 1min 52s\n",
      "Wall time: 1min 52s\n"
     ]
    }
   ],
   "source": [
    "%%time\n",
    "res=motif_finder(seq,sub)\n",
    "output(res)"
   ]
  },
  {
   "cell_type": "markdown",
   "metadata": {},
   "source": [
    "#### Knuth–Morris–Pratt algorithm"
   ]
  },
  {
   "cell_type": "code",
   "execution_count": 6,
   "metadata": {},
   "outputs": [],
   "source": [
    "def z_func(s):\n",
    "    s+='$'\n",
    "    l,r= 0,0\n",
    "    z=[0] * len(s)\n",
    "    for i in range(1,len(s)):\n",
    "        z[i]=max(0, min(z[i-l],r-i))\n",
    "        while s[z[i]]==s[i+z[i]]:\n",
    "            z[i]+=1\n",
    "        if i+z[i]>r:\n",
    "            l,r=i,i+z[i]\n",
    "    return z[:-1]"
   ]
  },
  {
   "cell_type": "code",
   "execution_count": 7,
   "metadata": {},
   "outputs": [],
   "source": [
    "def KMP(s,t):\n",
    "    k=0\n",
    "    a=[]\n",
    "    i=0\n",
    "    while i<(len(t)):\n",
    "        while k>0 and t[i]!=s[k]:\n",
    "            k=z_func(s[:k+1])[0]\n",
    "        if t[i]==s[k]:\n",
    "            k+=1\n",
    "        if k==len(s):\n",
    "            a.append(i-len(s)+2)\n",
    "            k=z_func(s[:k+1])[0]\n",
    "            i-=(len(s)-1)\n",
    "        i+=1\n",
    "    return a"
   ]
  },
  {
   "cell_type": "code",
   "execution_count": 8,
   "metadata": {},
   "outputs": [
    {
     "name": "stdout",
     "output_type": "stream",
     "text": [
      "522 \n",
      "CPU times: user 2.1 s, sys: 3.04 ms, total: 2.1 s\n",
      "Wall time: 2.1 s\n"
     ]
    }
   ],
   "source": [
    "%%time\n",
    "res=KMP(sub,seq)\n",
    "output(res)"
   ]
  },
  {
   "cell_type": "markdown",
   "metadata": {},
   "source": [
    "KMP algorithm has been chosen due to its' simplicity in programming and as it is acceptably fast in comparisson with brut force one. "
   ]
  },
  {
   "cell_type": "markdown",
   "metadata": {},
   "source": [
    "# Problem 2: Genome Assembly with Perfect Coverage"
   ]
  },
  {
   "cell_type": "code",
   "execution_count": 9,
   "metadata": {},
   "outputs": [],
   "source": [
    "def wrap_around(genome):\n",
    "    identical=[]\n",
    "    linear=genome\n",
    "    for i in range(len(linear)):\n",
    "        linear=linear[1:]+linear[0]\n",
    "        identical.append(linear)\n",
    "    return identical"
   ]
  },
  {
   "cell_type": "code",
   "execution_count": 10,
   "metadata": {},
   "outputs": [
    {
     "data": {
      "text/plain": [
       "['CGTACA', 'GTACAC', 'TACACG', 'ACACGT', 'CACGTA', 'ACGTAC']"
      ]
     },
     "execution_count": 10,
     "metadata": {},
     "output_type": "execute_result"
    }
   ],
   "source": [
    "wrap_around('ACGTAC')"
   ]
  },
  {
   "cell_type": "code",
   "execution_count": 11,
   "metadata": {},
   "outputs": [
    {
     "name": "stdout",
     "output_type": "stream",
     "text": [
      "2000\n",
      "50\n"
     ]
    }
   ],
   "source": [
    "reads=[]\n",
    "with open(\"rosalind_pvoc.txt\",'r') as f:\n",
    "    for i in f:\n",
    "        s=str(i)\n",
    "        reads.append(str(s[:-1]))\n",
    "print(len(reads))\n",
    "print(len(reads[0]))"
   ]
  },
  {
   "cell_type": "code",
   "execution_count": 12,
   "metadata": {},
   "outputs": [],
   "source": [
    "def SymbolToNumber(sym):\n",
    "    if sym=='A':\n",
    "        return 0\n",
    "    elif sym==\"C\":\n",
    "        return 1\n",
    "    elif sym==\"G\":\n",
    "        return 2\n",
    "    elif sym==\"T\":\n",
    "        return 3\n",
    "    else:\n",
    "        return 0"
   ]
  },
  {
   "cell_type": "code",
   "execution_count": 13,
   "metadata": {},
   "outputs": [],
   "source": [
    "def PatternToNumber(text):\n",
    "    if text==\"\":\n",
    "        return 0\n",
    "    sym=text[-1]\n",
    "    prefix=text[:len(text)-1]\n",
    "    res=PatternToNumber(prefix)*4+SymbolToNumber(sym)\n",
    "    return res"
   ]
  },
  {
   "cell_type": "code",
   "execution_count": 14,
   "metadata": {},
   "outputs": [],
   "source": [
    "def prefix_suffix(reads):\n",
    "    pre_suf=[]\n",
    "    for i in reads:\n",
    "        pre_suf.append((i[:-1],i[1:]))\n",
    "    return pre_suf"
   ]
  },
  {
   "cell_type": "code",
   "execution_count": 16,
   "metadata": {},
   "outputs": [],
   "source": [
    "def graf_cons(reads):\n",
    "    pre_suf=prefix_suffix(reads)\n",
    "    edges=[]\n",
    "    seq=reads\n",
    "    graf=[]\n",
    "    nodes=[]\n",
    "    for i in range(len(pre_suf)):\n",
    "        k=0\n",
    "        for j in range(i,len(pre_suf)):\n",
    "            if pre_suf[i]!=pre_suf[j]:\n",
    "                k+=1\n",
    "        if k==len(pre_suf)-i-1:\n",
    "            nodes.append(pre_suf[i])\n",
    "            edges.append(seq[i])\n",
    "    for i in range(len(nodes)):\n",
    "        graf.append((nodes[i][0],edges[i]))\n",
    "    return nodes,edges"
   ]
  },
  {
   "cell_type": "code",
   "execution_count": 17,
   "metadata": {},
   "outputs": [],
   "source": [
    "def adj_row(reads):\n",
    "    n=len(reads[0])-1\n",
    "    row=[]\n",
    "    nodes,_=graf_cons(reads)\n",
    "    for i in range(len(nodes)):\n",
    "        row.append((PatternToNumber(nodes[i][0]),PatternToNumber(nodes[i][1]),nodes[i][0],nodes[i][1]))\n",
    "    return row\n",
    "            "
   ]
  },
  {
   "cell_type": "code",
   "execution_count": 18,
   "metadata": {},
   "outputs": [],
   "source": [
    "def finding(reads):\n",
    "    g=adj_row(reads)\n",
    "    final=''\n",
    "    final+=g[0][2][-1]\n",
    "    l=0\n",
    "    start=g[0][0]\n",
    "    for i in range(len(g)):\n",
    "        for k in range(len(g)):\n",
    "            if g[l][1]==g[k][0]:\n",
    "                final+=g[k][2][-1]\n",
    "                l=k\n",
    "                break\n",
    "        if g[l][0]==start:\n",
    "            final=final[:-1]\n",
    "            break\n",
    "    return final"
   ]
  },
  {
   "cell_type": "code",
   "execution_count": 19,
   "metadata": {},
   "outputs": [
    {
     "name": "stdout",
     "output_type": "stream",
     "text": [
      "2000\n"
     ]
    }
   ],
   "source": [
    "ref='CGTGCGCACTCTAAAGCCCCATCGCTTATAGCTTAGACCGTGGTTAGGTTTTCCTACAGTTGGATGGGTCCAACGTCTTATCCCTCCAATGCAAGTATCCGAACTAACAGGCGAATAGGATTTCCCGGAGGGCTTAGGACGATGCCTCATCGGTTACCAGCGGGTCCAGATGTAACGTCGCTCCACAGAACATGCTCAGGACCGACTGCTTAGAATCGCCTAAATATACGTCTCGCCGGTCCCCTGACATATGCTGTAATAAGTTAACTAAGCTCGCAGGTGTAATATTTAACAGAGTCTAAAACCGCGAAGCATTACCACGCATGTCGCTAGGGTAGATTTACACCATTTGTCCCTTGCACCCGTTGGTGAACGAGGCCGGGGGTATAATGTCGTGGGTTTACCCATGAATAAGTAATGGACTGGCAGACCTTGCACTATTTGTAATCCTCGCCGCGGCCAAACAACCCGCGACCGGTCATGTACGCCGTATGCTTGGTTAAGCTCGCTTCAGAACAACCATCCGCGTTTTATCTAGTGCGCTCGTAGTCTTGGATGGCGTTCAACGATAGGATGTCCGCGCTGTGTTAGTTCGCTCCCAATATGTATTAGCAACGGTCTGCCATCAGGCCCTAATAATGCCTGGAGCATAGCGGTAATTCACGTCGAACACCTCCCATATTCACTTGGTGTACCAACTCATTTGTTAGATTAACGTTCTTTAGTACCATCTACGCGGTTATTTCACCCTGGGCTACTGCTGCAAATCCAAAGACCGGCTCCTAAACGGCCAGTTTGATTCCTCGCCTGACAAAGTCCTTCCCGCGGCTCCCAACACGAAGAACATATCATGATGTTGAGCTCAAATTCTATACGTGCTGCTAGTATCCGTGTACTCTATCGAGTTGGTTAGGCGTGCCGTACCACAGAATAGAGACATCAGCGGCAAGCAGTGCGAATTATAAGCTCCAGCGAAACACGAAGCTACATGTGCAAACCAAGTAGCCATAGTTCCGACATCCGGTGCTACCACCCAATCCTTTTAGAGCGATGAGACGAAATACACTTTCGTGTGCCCTCGTGGGATTATCGATAACCATAGTGTCCGATGTATACGTATTAAGAGGACGGGCAAACACGTGTGGAGCGGTCTGGAGAGGGAATGCATAACGTCGAGATTCCCAGCGCTCGCTTGATCTGAAACACGAGGGGATGGGTTCGTACTAACCTTGTGCGGCTATTGCCTATGTATCTTTGCGTGAACACTGACACTCGTAACTCCGGAATCACATTATCCGTACTTCTGGAACGGTTGTTGGTCTAGTTCGAGGCGACTGAACTTGCGTTAGTTAGGCAGCAACACCCCCAGGCAGTCAGGACCCGGGGTTCCATGGCTCCTCTCCCTAGAGATTTCGATAGTAAGTATCTTGCCCATGGAGTATCGACTCACCGCTATTGCCACGCCTGATGTACTTGTGGACATAACGCTTTTAAGACAGCTTGTGGTTTCAGTACATTTCGGGTCCAGATTTACCAGGATCATTACTCGATTCGCGGTTTAACCGGTCTCTTCACCCGCTATCCACTGAGGGATCGCTATAAAAGAGACTGCGCAGGATGTACTTTTCGCAATACGTAACTACTTCGGATTGTATCCCTACGAATCCGATCAGACCTCGGCCTTTACACTGCGCGATCCCTGGTGTTATCATACAGTATACGCACCCACACTCATTTGTAGCGCCATCGGTTTCATGAAACCTGTGTAAGGAACGGAGTGGAGAAGCCCCTTATACTTTGTCAGTTGAGTCGCCTGACGCACGAAAGGTCAAAATTCTGCATGAGTCGGAGCGTGGAGTCAGCAGCGAATGGGAGCGGACACCATAGACTACCGACTCGCATACCAATATCCATAGCCAAGACTGCAGCGTACTCCGGTGAAAGCGGTTTGGCTCTAGATGATATTAACAAAGATAAGGTAGTCACTCGATTGGGACCAT'\n",
    "print(len(ref))"
   ]
  },
  {
   "cell_type": "code",
   "execution_count": 20,
   "metadata": {},
   "outputs": [
    {
     "name": "stdout",
     "output_type": "stream",
     "text": [
      "CACCCCCAGGCAGTCAGGACCCGGGGTTCCATGGCTCCTCTCCCTAGAGATTTCGATAGTAAGTATCTTGCCCATGGAGTATCGACTCACCGCTATTGCCACGCCTGATGTACTTGTGGACATAACGCTTTTAAGACAGCTTGTGGTTTCAGTACATTTCGGGTCCAGATTTACCAGGATCATTACTCGATTCGCGGTTTAACCGGTCTCTTCACCCGCTATCCACTGAGGGATCGCTATAAAAGAGACTGCGCAGGATGTACTTTTCGCAATACGTAACTACTTCGGATTGTATCCCTACGAATCCGATCAGACCTCGGCCTTTACACTGCGCGATCCCTGGTGTTATCATACAGTATACGCACCCACACTCATTTGTAGCGCCATCGGTTTCATGAAACCTGTGTAAGGAACGGAGTGGAGAAGCCCCTTATACTTTGTCAGTTGAGTCGCCTGACGCACGAAAGGTCAAAATTCTGCATGAGTCGGAGCGTGGAGTCAGCAGCGAATGGGAGCGGACACCATAGACTACCGACTCGCATACCAATATCCATAGCCAAGACTGCAGCGTACTCCGGTGAAAGCGGTTTGGCTCTAGATGATATTAACAAAGATAAGGTAGTCACTCGATTGGGACCATCGTGCGCACTCTAAAGCCCCATCGCTTATAGCTTAGACCGTGGTTAGGTTTTCCTACAGTTGGATGGGTCCAACGTCTTATCCCTCCAATGCAAGTATCCGAACTAACAGGCGAATAGGATTTCCCGGAGGGCTTAGGACGATGCCTCATCGGTTACCAGCGGGTCCAGATGTAACGTCGCTCCACAGAACATGCTCAGGACCGACTGCTTAGAATCGCCTAAATATACGTCTCGCCGGTCCCCTGACATATGCTGTAATAAGTTAACTAAGCTCGCAGGTGTAATATTTAACAGAGTCTAAAACCGCGAAGCATTACCACGCATGTCGCTAGGGTAGATTTACACCATTTGTCCCTTGCACCCGTTGGTGAACGAGGCCGGGGGTATAATGTCGTGGGTTTACCCATGAATAAGTAATGGACTGGCAGACCTTGCACTATTTGTAATCCTCGCCGCGGCCAAACAACCCGCGACCGGTCATGTACGCCGTATGCTTGGTTAAGCTCGCTTCAGAACAACCATCCGCGTTTTATCTAGTGCGCTCGTAGTCTTGGATGGCGTTCAACGATAGGATGTCCGCGCTGTGTTAGTTCGCTCCCAATATGTATTAGCAACGGTCTGCCATCAGGCCCTAATAATGCCTGGAGCATAGCGGTAATTCACGTCGAACACCTCCCATATTCACTTGGTGTACCAACTCATTTGTTAGATTAACGTTCTTTAGTACCATCTACGCGGTTATTTCACCCTGGGCTACTGCTGCAAATCCAAAGACCGGCTCCTAAACGGCCAGTTTGATTCCTCGCCTGACAAAGTCCTTCCCGCGGCTCCCAACACGAAGAACATATCATGATGTTGAGCTCAAATTCTATACGTGCTGCTAGTATCCGTGTACTCTATCGAGTTGGTTAGGCGTGCCGTACCACAGAATAGAGACATCAGCGGCAAGCAGTGCGAATTATAAGCTCCAGCGAAACACGAAGCTACATGTGCAAACCAAGTAGCCATAGTTCCGACATCCGGTGCTACCACCCAATCCTTTTAGAGCGATGAGACGAAATACACTTTCGTGTGCCCTCGTGGGATTATCGATAACCATAGTGTCCGATGTATACGTATTAAGAGGACGGGCAAACACGTGTGGAGCGGTCTGGAGAGGGAATGCATAACGTCGAGATTCCCAGCGCTCGCTTGATCTGAAACACGAGGGGATGGGTTCGTACTAACCTTGTGCGGCTATTGCCTATGTATCTTTGCGTGAACACTGACACTCGTAACTCCGGAATCACATTATCCGTACTTCTGGAACGGTTGTTGGTCTAGTTCGAGGCGACTGAACTTGCGTTAGTTAGGCAGCAA\n",
      "CPU times: user 532 ms, sys: 3.4 ms, total: 535 ms\n",
      "Wall time: 534 ms\n"
     ]
    }
   ],
   "source": [
    "%%time\n",
    "final=finding(reads)\n",
    "a=wrap_around(ref)\n",
    "for i in a:\n",
    "    if i==final:\n",
    "        print(final)"
   ]
  },
  {
   "cell_type": "markdown",
   "metadata": {},
   "source": [
    "# Problem 3: Bellman-Ford Algorithm"
   ]
  },
  {
   "cell_type": "code",
   "execution_count": 21,
   "metadata": {},
   "outputs": [],
   "source": [
    "def reading_graphs(file):\n",
    "    vert=[]\n",
    "    edges=[]\n",
    "    with open(file,'r') as f:\n",
    "        f.readline()\n",
    " \n",
    "        for i in f:\n",
    "            s=str(i)\n",
    "            s=s.split(' ')\n",
    "            flag=0\n",
    "            for j in range(len(vert)):\n",
    "                if int(s[0])!=vert[j]:\n",
    "                    flag+=1\n",
    "            if s[2][-1]=='\\n':\n",
    "                s[2]=s[2][:-1]\n",
    "            if flag==len(vert):\n",
    "                vert.append(int(s[0]))\n",
    "            edges.append(s)\n",
    "    return vert, edges\n"
   ]
  },
  {
   "cell_type": "code",
   "execution_count": 22,
   "metadata": {},
   "outputs": [],
   "source": [
    "def Bellman_Ford(vert, edges,source):\n",
    "    dist=[]\n",
    "    predec=[]\n",
    "    for v in vert:\n",
    "        dist.append(float('inf'))\n",
    "        predec.append(None)\n",
    "    dist[source-1]=0\n",
    "    for i in range(1,len(vert)):\n",
    "        for j in edges:\n",
    "            if dist[int(j[0])-1]+int(j[2])<dist[int(j[1])-1]:\n",
    "                dist[int(j[1])-1]=dist[int(j[0])-1]+int(j[2])\n",
    "                predec[int(j[1])-1]=int(j[0])-1\n",
    "    \n",
    "    for i in edges:\n",
    "        if dist[int(i[0])-1]+int(i[2])<dist[int(i[1])-1]:\n",
    "            print (\"Graph contains a negative-weight cycle\")\n",
    "            raise \n",
    "    for i in range(len(dist)):\n",
    "        if dist[i]==float('inf'):\n",
    "            dist[i]='x'\n",
    "    return dist"
   ]
  },
  {
   "cell_type": "code",
   "execution_count": 23,
   "metadata": {
    "scrolled": true
   },
   "outputs": [
    {
     "name": "stdout",
     "output_type": "stream",
     "text": [
      "0 5 5 6 9 7 9 8 x \n",
      "CPU times: user 833 µs, sys: 829 µs, total: 1.66 ms\n",
      "Wall time: 903 µs\n"
     ]
    }
   ],
   "source": [
    "%%time\n",
    "source=1\n",
    "vert, edges=reading_graphs(\"1.txt\")\n",
    "dist=Bellman_Ford(vert,edges,source)\n",
    "output(dist)"
   ]
  },
  {
   "cell_type": "markdown",
   "metadata": {},
   "source": [
    "# Problem 4: Connected Components"
   ]
  },
  {
   "cell_type": "code",
   "execution_count": 24,
   "metadata": {},
   "outputs": [],
   "source": [
    "def reading_graphs(file):\n",
    "    vert=[]\n",
    "    edges=[]\n",
    "    with open(file,'r') as f:\n",
    "        num=f.readline().split(' ')\n",
    "        for i in f:\n",
    "            s=str(i)\n",
    "            s=s.split(' ')\n",
    "            if s[1][-1]=='\\n':\n",
    "                s[1]=s[1][:-1]\n",
    "            edges.append(s)\n",
    "            \n",
    "    for i in range(1,int(num[0])+1):\n",
    "        vert.append(i)\n",
    "    return vert, edges"
   ]
  },
  {
   "cell_type": "code",
   "execution_count": 25,
   "metadata": {},
   "outputs": [],
   "source": [
    "global visited\n",
    "global ccnum\n",
    "vert,edges=reading_graphs('2.txt')\n",
    "visited=[False]*(len(vert)+1)\n",
    "ccnum=[0]*(len(vert)+1)\n",
    "cc=0"
   ]
  },
  {
   "cell_type": "code",
   "execution_count": 26,
   "metadata": {},
   "outputs": [],
   "source": [
    "def explore(vert,edges,v):\n",
    "    visited[v]=True\n",
    "    previsit(v)\n",
    "    for i in edges:\n",
    "        if int(i[0])!=v:\n",
    "            continue\n",
    "        else:\n",
    "            if not visited[int(i[1])]:\n",
    "                explore(vert,edges,int(i[1]))\n",
    "    #postvisit(v)"
   ]
  },
  {
   "cell_type": "code",
   "execution_count": 27,
   "metadata": {},
   "outputs": [],
   "source": [
    "def DFS(vert,edges):\n",
    "    global cc\n",
    "    for i in vert:\n",
    "        if not visited[i]:\n",
    "            cc+=1\n",
    "            explore(vert,edges,i)\n",
    "    print(max(ccnum))"
   ]
  },
  {
   "cell_type": "code",
   "execution_count": 28,
   "metadata": {},
   "outputs": [],
   "source": [
    "def previsit(v):\n",
    "    ccnum[v]=cc"
   ]
  },
  {
   "cell_type": "code",
   "execution_count": 29,
   "metadata": {},
   "outputs": [
    {
     "name": "stdout",
     "output_type": "stream",
     "text": [
      "3\n",
      "CPU times: user 183 µs, sys: 50 µs, total: 233 µs\n",
      "Wall time: 210 µs\n"
     ]
    }
   ],
   "source": [
    "%%time\n",
    "DFS(vert,edges)"
   ]
  },
  {
   "cell_type": "markdown",
   "metadata": {},
   "source": [
    "# Problem 5: Quick Sort"
   ]
  },
  {
   "cell_type": "code",
   "execution_count": 30,
   "metadata": {},
   "outputs": [],
   "source": [
    "def input(file):\n",
    "    with open(file,'r') as f:\n",
    "        num=int(f.readline())\n",
    "        array=[]\n",
    "        s=f.readline()\n",
    "        s=s.split(\" \")\n",
    "        for i in s:\n",
    "            array.append(int(i))\n",
    "    return array,0,num-1"
   ]
  },
  {
   "cell_type": "code",
   "execution_count": 31,
   "metadata": {},
   "outputs": [],
   "source": [
    "global A\n",
    "def quick_sort(A, low,high):\n",
    "    if low<high:\n",
    "        p=partition(A,low,high)\n",
    "        quick_sort(A,low,p-1)\n",
    "        quick_sort(A,p+1,high)\n"
   ]
  },
  {
   "cell_type": "code",
   "execution_count": 32,
   "metadata": {},
   "outputs": [],
   "source": [
    "def partition(A,low,high):\n",
    "    pivot=A[high]\n",
    "    i=low\n",
    "    for j in range(low,high):\n",
    "        if A[j]<= pivot:\n",
    "            A[i],A[j]=A[j],A[i]\n",
    "            i+=1\n",
    "    A[i],A[high]=A[high],A[i]\n",
    "    return i"
   ]
  },
  {
   "cell_type": "code",
   "execution_count": 33,
   "metadata": {},
   "outputs": [
    {
     "name": "stdout",
     "output_type": "stream",
     "text": [
      "-10 -2 4 5 7 8 11 \n",
      "CPU times: user 300 µs, sys: 293 µs, total: 593 µs\n",
      "Wall time: 395 µs\n"
     ]
    }
   ],
   "source": [
    "%%time\n",
    "A, low, high=input('3.txt')\n",
    "quick_sort(A, low,high)\n",
    "output(A)"
   ]
  }
 ],
 "metadata": {
  "kernelspec": {
   "display_name": "Python 3",
   "language": "python",
   "name": "python3"
  },
  "language_info": {
   "codemirror_mode": {
    "name": "ipython",
    "version": 3
   },
   "file_extension": ".py",
   "mimetype": "text/x-python",
   "name": "python",
   "nbconvert_exporter": "python",
   "pygments_lexer": "ipython3",
   "version": "3.7.3"
  }
 },
 "nbformat": 4,
 "nbformat_minor": 2
}
